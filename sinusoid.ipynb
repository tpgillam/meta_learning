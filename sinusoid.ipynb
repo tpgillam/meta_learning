{
 "cells": [
  {
   "cell_type": "code",
   "execution_count": 3,
   "metadata": {},
   "outputs": [],
   "source": [
    "import numpy\n",
    "import torch\n",
    "\n",
    "from contexttimer import Timer\n",
    "from matplotlib import pyplot\n",
    "from more_itertools.recipes import pairwise\n",
    "from typing import Collection, NamedTuple, Tuple"
   ]
  },
  {
   "cell_type": "code",
   "execution_count": 4,
   "metadata": {},
   "outputs": [],
   "source": [
    "class Batch(NamedTuple):\n",
    "    \"\"\"Represent a batch of tasks, returned by `generate_sinusoid_batch`.\"\"\"\n",
    "    x: numpy.ndarray  # (batch_size_meta, batch_size_inner)\n",
    "    y: numpy.ndarray  # (batch_size_meta, batch_size_inner)\n",
    "    amplitude: numpy.ndarray  # (batch_size_meta,)\n",
    "    phase: numpy.ndarray  # (batch_size_meta,)\n",
    "    input_range: Tuple[float, float]\n",
    "    amplitude_range: Tuple[float, float]\n",
    "\n",
    "\n",
    "def generate_sinusoid_batch(\n",
    "        batch_size_meta: int,\n",
    "        batch_size_inner: int,\n",
    "        amplitude_range: Tuple[float, float]=(0.1, 5.0),\n",
    "        phase_range: Tuple[float, float]=(0., numpy.pi),\n",
    "        input_range: Tuple[float, float]=(-5.0, 5.0)) -> Batch:\n",
    "    \"\"\"Compute a batch of samples.\n",
    "    \n",
    "    We draw `batch_size_meta` tasks, and for each task a batch of `batch_size_inner` points. Each \"task\"\n",
    "    represents a regression problem, underlied by a sine wave with some amplitude and phase.\n",
    "    \n",
    "    Args:\n",
    "        batch_size_meta: The number of tasks to draw.\n",
    "        batch_size_inner: The number of samples for each task.\n",
    "        amplitude_range: Draw the amplitude of the sine wave for the task uniformly from this range.\n",
    "        phase_range: Draw the phase of the sine wave for the task uniformly from this range.\n",
    "        input_range: The range from which the input variable will be drawn uniformly.\n",
    "    \"\"\"\n",
    "    amplitude = numpy.random.uniform(amplitude_range[0], amplitude_range[1], batch_size_meta)\n",
    "    phase = numpy.random.uniform(phase_range[0], phase_range[1], batch_size_meta)\n",
    "    \n",
    "    # All input locations are independent.\n",
    "    x = numpy.random.uniform(\n",
    "        input_range[0],\n",
    "        input_range[1],\n",
    "        (batch_size_meta, batch_size_inner))\n",
    "    \n",
    "    # To compute the outputs, we should broadcast the amplitude & phase over all inner samples.\n",
    "    y = numpy.expand_dims(amplitude, axis=1) * numpy.sin(x - numpy.expand_dims(phase, axis=1))\n",
    "    \n",
    "    return Batch(x, y, amplitude, phase, input_range, amplitude_range)\n",
    "\n",
    "\n",
    "def plot_task(batch: Batch, index: int):\n",
    "    \"\"\"Plot the task with the specified `index` from the given `batch`.\"\"\"\n",
    "    # Plot the reference curve\n",
    "    truth_x = numpy.linspace(batch.input_range[0], batch.input_range[1], 200)\n",
    "    truth_y = batch.amplitude[index] * numpy.sin(truth_x - batch.phase[index])\n",
    "    pyplot.plot(truth_x, truth_y, c='r', label='truth')\n",
    "    \n",
    "    # Plot the sample points.\n",
    "    pyplot.plot(batch.x[index], batch.y[index], '^', label='samples')\n",
    "    \n",
    "    pyplot.xlim(*batch.input_range)\n",
    "    max_y = max(batch.amplitude_range)\n",
    "    pyplot.ylim(-max_y, max_y)\n",
    "    \n",
    "    pyplot.legend()"
   ]
  },
  {
   "cell_type": "code",
   "execution_count": 5,
   "metadata": {},
   "outputs": [],
   "source": [
    "batch = generate_sinusoid_batch(3, 5)"
   ]
  },
  {
   "cell_type": "code",
   "execution_count": 6,
   "metadata": {},
   "outputs": [
    {
     "data": {
      "image/png": "[encoded data removed]",
      "text/plain": [
       "<Figure size 432x288 with 1 Axes>"
      ]
     },
     "metadata": {
      "needs_background": "light"
     },
     "output_type": "display_data"
    }
   ],
   "source": [
    "plot_task(batch, 0)"
   ]
  },
  {
   "cell_type": "code",
   "execution_count": 11,
   "metadata": {},
   "outputs": [
    {
     "data": {
      "text/plain": [
       "array([[-0.6283846 , -0.18770144, -4.09803082,  2.45289938,  3.22124447],\n",
       "       [ 1.63566076,  4.87131791,  0.48346901, -0.94792303, -0.12155327],\n",
       "       [ 4.47132699, -3.98549463, -2.14739351, -3.84989929,  0.76371055]])"
      ]
     },
     "execution_count": 11,
     "metadata": {},
     "output_type": "execute_result"
    }
   ],
   "source": [
    "batch.x"
   ]
  },
  {
   "cell_type": "code",
   "execution_count": 7,
   "metadata": {},
   "outputs": [],
   "source": [
    "class SinusoidalRegressor(torch.nn.Module):\n",
    "    \"\"\"A module suitable for producing  \"\"\"\n",
    "    \n",
    "    def __init__(self, hidden_sizes: Collection[int]=(40, 40)):\n",
    "        super().__init__()\n",
    "        dim_in = 1\n",
    "        dim_out = 1\n",
    "        all_dims = (dim_in,) + tuple(hidden_sizes) + (dim_out,)\n",
    "        self.layers = [torch.nn.Linear(dim_1, dim_2) for dim_1, dim_2 in pairwise(all_dims)]\n",
    "        \n",
    "        for i, layer in enumerate(self.layers):\n",
    "            # Register this as a sub-module, so we declare the existence of the necessary parameters\n",
    "            torch.nn.init.xavier_normal_(layer.weight)\n",
    "            self.add_module(f'layer_{i}', layer)\n",
    "            \n",
    "        self.relu = torch.nn.ReLU()\n",
    "\n",
    "    def forward(self, x):\n",
    "        \"\"\"\n",
    "        In the forward function we accept a Tensor of input data and we must return\n",
    "        a Tensor of output data. We can use Modules defined in the constructor as\n",
    "        well as arbitrary operators on Tensors.\n",
    "        \"\"\"\n",
    "        for layer in self.layers:\n",
    "            x = layer(x)\n",
    "            x = self.relu(x)\n",
    "        return x"
   ]
  },
  {
   "cell_type": "code",
   "execution_count": 8,
   "metadata": {},
   "outputs": [],
   "source": [
    "def get_device():\n",
    "    return torch.device('cuda:1')"
   ]
  },
  {
   "cell_type": "code",
   "execution_count": 10,
   "metadata": {},
   "outputs": [],
   "source": [
    "def train_simple(\n",
    "        *,\n",
    "        use_reynolds_trick: bool,\n",
    "        num_epochs: int=50,\n",
    "        batch_size: int=1000,\n",
    "        learning_rate: float=1e-3,\n",
    "        verbose: bool=False) -> list:\n",
    "    device = get_device()\n",
    "    module = SinusoidalRegressor().to(device)\n",
    "    \n",
    "    \n",
    "    # print(model)\n",
    "\n",
    "    # Construct our loss function and an Optimizer. The call to model.parameters()\n",
    "    # in the SGD constructor will contain the learnable parameters of the two\n",
    "    # nn.Linear modules which are members of the model.\n",
    "    criterion = torch.nn.CrossEntropyLoss(reduction='mean')\n",
    "    optimizer = torch.optim.Adam(model.parameters(), lr=learning_rate)\n",
    "    \n",
    "    \n",
    "    test_accuracies = []\n",
    "\n",
    "    numpy.random.seed(42)\n",
    "    \n",
    "    with Timer() as timer:\n",
    "        for i_epoch in range(num_epochs):\n",
    "            # Shuffle training data\n",
    "            index = numpy.arange(torch_train_x.shape[0])\n",
    "            numpy.random.shuffle(index)\n",
    "            shuffled_train_x = torch_train_x[index]\n",
    "            shuffled_train_y = torch_train_y[index]\n",
    "\n",
    "            num_batches = train_X.shape[0] // batch_size\n",
    "            for i_batch in range(num_batches):\n",
    "                # Create Tensors to hold inputs and outputs\n",
    "\n",
    "                i_start = i_batch * batch_size\n",
    "                i_end = i_start + batch_size\n",
    "                x = shuffled_train_x[i_start:i_end]\n",
    "                y = shuffled_train_y[i_start:i_end]\n",
    "\n",
    "                # Forward pass: Compute predicted y by passing x to the model\n",
    "                y_pred = model(x)\n",
    "\n",
    "                # Compute loss\n",
    "                loss = criterion(y_pred, y)\n",
    "\n",
    "                # Zero gradients, perform a backward pass, and update the weights.\n",
    "                optimizer.zero_grad()\n",
    "                loss.backward()\n",
    "                optimizer.step()\n",
    "\n",
    "            # At the end of each epoch print a summary\n",
    "            acc = accuracy(y_pred, y)\n",
    "\n",
    "            # No need to accumulate gradients when evaluating the validation loss.\n",
    "            # Also, we put the model into \"evaluation mode\" for the purpose of computing the prediction. This is\n",
    "            # to prevent layers like BatchNorm / Dropout mutating their internal state.\n",
    "            with torch.no_grad(), model_eval(model):\n",
    "                test_y_pred = model(torch_test_x)\n",
    "                test_accuracy = accuracy(test_y_pred, torch_test_y).item()\n",
    "                \n",
    "            test_accuracies.append(test_accuracy)\n",
    "            if verbose:\n",
    "                print(f'Epoch {i_epoch + 1}/{num_epochs}:   {100 * acc.item():.1f}%   {100 * test_accuracy:.1f}%')\n",
    "\n",
    "    print(timer)\n",
    "    return test_accuracies"
   ]
  },
  {
   "cell_type": "code",
   "execution_count": 14,
   "metadata": {},
   "outputs": [],
   "source": [
    "# From code:\n",
    "batch_size_meta = 25\n",
    "\n",
    "# The inner batch size. It seems to vary between plots.\n",
    "# We actually generate *twice* this amount of data in total; half is used for the inner\n",
    "# training loop, and the other half for inner testing.\n",
    "update_batch_size_inner = 10\n",
    "\n",
    "learning_rate_meta = 0.001  # Meta Adam optimizer\n",
    "learning_rate_update = 0.001  # Inner Adam optimizer\n",
    "num_steps_train_meta = 70000"
   ]
  },
  {
   "cell_type": "code",
   "execution_count": null,
   "metadata": {},
   "outputs": [],
   "source": []
  }
 ],
 "metadata": {
  "kernelspec": {
   "display_name": "Python 3",
   "language": "python",
   "name": "python3"
  },
  "language_info": {
   "codemirror_mode": {
    "name": "ipython",
    "version": 3
   },
   "file_extension": ".py",
   "mimetype": "text/x-python",
   "name": "python",
   "nbconvert_exporter": "python",
   "pygments_lexer": "ipython3",
   "version": "3.7.7"
  }
 },
 "nbformat": 4,
 "nbformat_minor": 4
}
