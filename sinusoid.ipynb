{
 "cells": [
  {
   "cell_type": "code",
   "execution_count": 10,
   "metadata": {},
   "outputs": [],
   "source": [
    "import numpy\n",
    "\n",
    "from matplotlib import pyplot\n",
    "from typing import NamedTuple, Tuple"
   ]
  },
  {
   "cell_type": "code",
   "execution_count": 28,
   "metadata": {},
   "outputs": [],
   "source": [
    "class Batch(NamedTuple):\n",
    "    \"\"\"Represent a batch of tasks, returned by `generate_sinusoid_batch`.\"\"\"\n",
    "    x: numpy.ndarray  # (batch_size_meta, batch_size_inner)\n",
    "    y: numpy.ndarray  # (batch_size_meta, batch_size_inner)\n",
    "    amplitude: numpy.ndarray  # (batch_size_meta,)\n",
    "    phase: numpy.ndarray  # (batch_size_meta,)\n",
    "    input_range: Tuple[float, float]\n",
    "\n",
    "\n",
    "def generate_sinusoid_batch(\n",
    "        batch_size_meta: int,\n",
    "        batch_size_inner: int,\n",
    "        amplitude_range: Tuple[float, float]=(0.1, 5.0),\n",
    "        phase_range: Tuple[float, float]=(0., numpy.pi),\n",
    "        input_range: Tuple[float, float]=(-5.0, 5.0)) -> Batch:\n",
    "    \"\"\"Compute a batch of samples.\n",
    "    \n",
    "    We draw `batch_size_meta` tasks, and for each task a batch of `batch_size_inner` points. Each \"task\"\n",
    "    represents a regression problem, underlied by a sine wave with some amplitude and phase.\n",
    "    \n",
    "    Args:\n",
    "        batch_size_meta: The number of tasks to draw.\n",
    "        batch_size_inner: The number of samples for each task.\n",
    "        amplitude_range: Draw the amplitude of the sine wave for the task uniformly from this range.\n",
    "        phase_range: Draw the phase of the sine wave for the task uniformly from this range.\n",
    "        input_range: The range from which the input variable will be drawn uniformly.\n",
    "    \"\"\"\n",
    "    amplitude = numpy.random.uniform(amplitude_range[0], amplitude_range[1], batch_size_meta)\n",
    "    phase = numpy.random.uniform(phase_range[0], phase_range[1], batch_size_meta)\n",
    "    \n",
    "    # All input locations are independent.\n",
    "    x = numpy.random.uniform(\n",
    "        input_range[0],\n",
    "        input_range[1],\n",
    "        (batch_size_meta, batch_size_inner))\n",
    "    \n",
    "    # To compute the outputs, we should broadcast the amplitude & phase over all inner samples.\n",
    "    y = numpy.expand_dims(amplitude, axis=1) * numpy.sin(x - numpy.expand_dims(phase, axis=1))\n",
    "    \n",
    "    return Batch(x, y, amplitude, phase, input_range)\n",
    "\n",
    "\n",
    "def plot_task(batch: Batch, index: int):\n",
    "    \"\"\"Plot the task with the specified `index` from the given `batch`.\"\"\"\n",
    "    # Plot the reference curve\n",
    "    truth_x = numpy.linspace(batch.input_range[0], batch.input_range[1], 200)\n",
    "    truth_y = batch.amplitude[index] * numpy.sin(truth_x - batch.phase[index])\n",
    "    pyplot.plot(truth_x, truth_y, c='r', label='truth')\n",
    "    \n",
    "    # Plot the sample points.\n",
    "    pyplot.plot(batch.x[index], batch.y[index], '^', label='samples')\n",
    "    \n",
    "    pyplot.xlim(*batch.input_range)\n",
    "    \n",
    "    pyplot.legend()"
   ]
  },
  {
   "cell_type": "code",
   "execution_count": 26,
   "metadata": {},
   "outputs": [],
   "source": [
    "batch = generate_sinusoid_batch(3, 5)"
   ]
  },
  {
   "cell_type": "code",
   "execution_count": 27,
   "metadata": {},
   "outputs": [
    {
     "data": {
      "image/png": "[encoded data removed]",
      "text/plain": [
       "<Figure size 432x288 with 1 Axes>"
      ]
     },
     "metadata": {
      "needs_background": "light"
     },
     "output_type": "display_data"
    }
   ],
   "source": [
    "plot_task(batch, 0)"
   ]
  },
  {
   "cell_type": "code",
   "execution_count": null,
   "metadata": {},
   "outputs": [],
   "source": []
  }
 ],
 "metadata": {
  "kernelspec": {
   "display_name": "Python 3",
   "language": "python",
   "name": "python3"
  },
  "language_info": {
   "codemirror_mode": {
    "name": "ipython",
    "version": 3
   },
   "file_extension": ".py",
   "mimetype": "text/x-python",
   "name": "python",
   "nbconvert_exporter": "python",
   "pygments_lexer": "ipython3",
   "version": "3.7.7"
  }
 },
 "nbformat": 4,
 "nbformat_minor": 4
}
