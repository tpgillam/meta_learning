{
 "cells": [
  {
   "cell_type": "code",
   "execution_count": 275,
   "metadata": {},
   "outputs": [],
   "source": [
    "import contextlib\n",
    "import dataclasses\n",
    "\n",
    "import numpy\n",
    "import torch\n",
    "\n",
    "from contexttimer import Timer\n",
    "from matplotlib import pyplot\n",
    "from more_itertools.recipes import pairwise\n",
    "from typing import Collection, NamedTuple, Tuple, Union"
   ]
  },
  {
   "cell_type": "code",
   "execution_count": 276,
   "metadata": {},
   "outputs": [],
   "source": [
    "@dataclasses.dataclass(frozen=True)\n",
    "class Batch:\n",
    "    \"\"\"Represent a batch of tasks, returned by `generate_sinusoid_batch`.\"\"\"\n",
    "    \n",
    "    x: numpy.ndarray  # (batch_size_meta, batch_size_inner)\n",
    "    y: numpy.ndarray  # (batch_size_meta, batch_size_inner)\n",
    "    amplitude: numpy.ndarray  # (batch_size_meta,)\n",
    "    phase: numpy.ndarray  # (batch_size_meta,)\n",
    "    input_range: Tuple[float, float]\n",
    "    amplitude_range: Tuple[float, float]\n",
    "        \n",
    "    def __len__(self):\n",
    "        return self.x.shape[1]\n",
    "        \n",
    "    def __getitem__(self, slice_):\n",
    "        \"\"\"Slice over `batch_size_inner`.\"\"\"\n",
    "        return Batch(\n",
    "            self.x[:, slice_],\n",
    "            self.y[:, slice_],\n",
    "            self.amplitude,\n",
    "            self.phase,\n",
    "            self.input_range,\n",
    "            self.amplitude_range\n",
    "        )\n",
    "\n",
    "\n",
    "def generate_sinusoid_batch(\n",
    "        batch_size_meta: int,\n",
    "        batch_size_inner: int,\n",
    "        amplitude_range: Tuple[float, float] = (0.1, 5.0),\n",
    "        phase_range: Tuple[float, float] = (0., numpy.pi),\n",
    "        input_range: Tuple[float, float] = (-5.0, 5.0)) -> Batch:\n",
    "    \"\"\"Compute a batch of samples.\n",
    "    \n",
    "    We draw `batch_size_meta` tasks, and for each task a batch of `batch_size_inner` points. Each \"task\"\n",
    "    represents a regression problem, underlied by a sine wave with some amplitude and phase.\n",
    "    \n",
    "    Args:\n",
    "        batch_size_meta: The number of tasks to draw.\n",
    "        batch_size_inner: The number of samples for each task.\n",
    "        amplitude_range: Draw the amplitude of the sine wave for the task uniformly from this range.\n",
    "        phase_range: Draw the phase of the sine wave for the task uniformly from this range.\n",
    "        input_range: The range from which the input variable will be drawn uniformly.\n",
    "    \"\"\"\n",
    "    amplitude = numpy.random.uniform(amplitude_range[0], amplitude_range[1], batch_size_meta)\n",
    "    phase = numpy.random.uniform(phase_range[0], phase_range[1], batch_size_meta)\n",
    "    \n",
    "    # All input locations are independent.\n",
    "    x = numpy.random.uniform(\n",
    "        input_range[0],\n",
    "        input_range[1],\n",
    "        (batch_size_meta, batch_size_inner))\n",
    "    \n",
    "    # To compute the outputs, we should broadcast the amplitude & phase over all inner samples.\n",
    "    y = numpy.expand_dims(amplitude, axis=1) * numpy.sin(x - numpy.expand_dims(phase, axis=1))\n",
    "    \n",
    "    return Batch(x, y, amplitude, phase, input_range, amplitude_range)\n",
    "\n",
    "\n",
    "def plot_task(batch: Batch, index: int):\n",
    "    \"\"\"Plot the task with the specified `index` from the given `batch`.\"\"\"\n",
    "    # Plot the reference curve\n",
    "    truth_x = numpy.linspace(batch.input_range[0], batch.input_range[1], 200)\n",
    "    truth_y = batch.amplitude[index] * numpy.sin(truth_x - batch.phase[index])\n",
    "    pyplot.plot(truth_x, truth_y, c='r', label='truth')\n",
    "    \n",
    "    # Plot the sample points.\n",
    "    pyplot.plot(batch.x[index], batch.y[index], '^', label='samples')\n",
    "    \n",
    "    pyplot.xlim(*batch.input_range)\n",
    "    max_y = max(batch.amplitude_range)\n",
    "    pyplot.ylim(-max_y, max_y)\n",
    "    \n",
    "    pyplot.legend()"
   ]
  },
  {
   "cell_type": "code",
   "execution_count": 277,
   "metadata": {},
   "outputs": [],
   "source": [
    "batch = generate_sinusoid_batch(3, 5)"
   ]
  },
  {
   "cell_type": "code",
   "execution_count": 278,
   "metadata": {},
   "outputs": [
    {
     "data": {
      "image/png": "[encoded data removed]",
      "text/plain": [
       "<Figure size 432x288 with 1 Axes>"
      ]
     },
     "metadata": {
      "needs_background": "light"
     },
     "output_type": "display_data"
    }
   ],
   "source": [
    "plot_task(batch, 0)"
   ]
  },
  {
   "cell_type": "code",
   "execution_count": 279,
   "metadata": {},
   "outputs": [
    {
     "data": {
      "text/plain": [
       "array([[ 0.99536483,  2.2299763 ,  4.70289719,  3.21569457,  0.27551067],\n",
       "       [-1.6852327 , -1.46017804, -4.20969699,  0.5591438 , -3.34205537],\n",
       "       [-2.04762169,  3.40608485, -1.37437991, -1.59186022,  2.10401744]])"
      ]
     },
     "execution_count": 279,
     "metadata": {},
     "output_type": "execute_result"
    }
   ],
   "source": [
    "batch.x"
   ]
  },
  {
   "cell_type": "code",
   "execution_count": 305,
   "metadata": {},
   "outputs": [],
   "source": [
    "class SinusoidalRegressor(torch.nn.Module):\n",
    "    \"\"\"A module suitable for producing  \"\"\"\n",
    "    \n",
    "    def __init__(self, hidden_sizes: Collection[int] = (40, 40)):  \n",
    "        super().__init__()\n",
    "        dim_in = 1\n",
    "        dim_out = 1\n",
    "        all_dims = (dim_in,) + tuple(hidden_sizes) + (dim_out,)\n",
    "        self.layers = [torch.nn.Linear(dim_1, dim_2) for dim_1, dim_2 in pairwise(all_dims)]\n",
    "        \n",
    "        for i, layer in enumerate(self.layers):\n",
    "            # In the reference implementation, initialisation is:\n",
    "            #    * zero for bias terms\n",
    "            #    * truncated_normal, std=0.01 for weights.\n",
    "            torch.nn.init.zeros_(layer.bias)\n",
    "            # TODO truncated normal not available...\n",
    "            torch.nn.init.xavier_normal_(layer.weight)\n",
    "            \n",
    "            # Register this as a sub-module, so we declare the existence of the necessary parameters\n",
    "            self.add_module(f'layer_{i}', layer)\n",
    "            \n",
    "        self.relu = torch.nn.ReLU()\n",
    "\n",
    "    def forward(self, x):\n",
    "        \"\"\"\n",
    "        In the forward function we accept a Tensor of input data and we must return\n",
    "        a Tensor of output data. We can use Modules defined in the constructor as\n",
    "        well as arbitrary operators on Tensors.\n",
    "        \"\"\"\n",
    "        for i, layer in enumerate(self.layers):\n",
    "            x = layer(x)\n",
    "            \n",
    "            # We should not apply the non-linearity on the last layer!\n",
    "            is_last = i == len(self.layers) - 1\n",
    "            if not is_last:\n",
    "                x = self.relu(x)\n",
    "        return x"
   ]
  },
  {
   "cell_type": "code",
   "execution_count": 306,
   "metadata": {},
   "outputs": [],
   "source": [
    "def get_device():\n",
    "    \"\"\"Standard device on which to run computations.\"\"\"\n",
    "    return torch.device('cuda:1')"
   ]
  },
  {
   "cell_type": "code",
   "execution_count": 307,
   "metadata": {},
   "outputs": [],
   "source": [
    "# From code:\n",
    "batch_size_meta = 25\n",
    "\n",
    "# The inner batch size. It seems to vary between plots.\n",
    "# We actually generate *twice* this amount of data in total; half is used for the inner\n",
    "# training loop, and the other half for inner testing.\n",
    "batch_size_inner = 10\n",
    "\n",
    "learning_rate_meta = 0.001  # Meta Adam optimizer\n",
    "learning_rate_update = 0.001  # Inner Adam optimizer\n",
    "num_steps_train_meta = 70000"
   ]
  },
  {
   "cell_type": "code",
   "execution_count": 308,
   "metadata": {},
   "outputs": [],
   "source": [
    "@contextlib.contextmanager\n",
    "def model_eval(model):\n",
    "    \"\"\"Enter 'evaluation mode' for the given model. \"\"\"\n",
    "    model.eval()  # DANGER: This *mutates* the model. It returns a reference to itself\n",
    "    try:\n",
    "        yield\n",
    "    finally:\n",
    "        model.train()"
   ]
  },
  {
   "cell_type": "code",
   "execution_count": 309,
   "metadata": {},
   "outputs": [],
   "source": [
    "def _module_device(module):\n",
    "    \"\"\"Find the pytorch device to which the given module is bound.\"\"\"\n",
    "    devices = {x.device for x in module.parameters()}\n",
    "    if len(devices) != 1:\n",
    "        raise ValueError(f\"Found candidate devices {devices}\")\n",
    "    return next(iter(devices))\n",
    "\n",
    "\n",
    "def _train_step(module, train_batch: Batch, optimizer):\n",
    "    device = _module_device(module)\n",
    "    train_x = torch.tensor(train_batch.x.ravel(), dtype=torch.float32).unsqueeze(1).to(device)\n",
    "    train_y = torch.tensor(train_batch.y.ravel(), dtype=torch.float32).unsqueeze(1).to(device)\n",
    "\n",
    "    mse_loss = torch.nn.MSELoss()\n",
    "    \n",
    "    # Forward pass: Compute predicted y by passing x to the model\n",
    "    train_y_pred = module(train_x)\n",
    "\n",
    "    # Compute loss.\n",
    "    loss = mse_loss(train_y_pred, train_y)\n",
    "\n",
    "    # Zero gradients, perform a backward pass (compute gradients wrt. the loss), and update the \n",
    "    # weights accordingly.\n",
    "    optimizer.zero_grad()\n",
    "    loss.backward()\n",
    "    optimizer.step()\n",
    "    \n",
    "    \n",
    "class BatchPrediction(NamedTuple):\n",
    "    y: numpy.ndarray\n",
    "    mse_loss: float\n",
    "\n",
    "\n",
    "def _get_test_prediction(module, test_batch: Batch) -> BatchPrediction:\n",
    "    \"\"\"Get the prediction when evaluating the module on the given batch.\"\"\"\n",
    "    device = _module_device(module)\n",
    "    test_x = torch.tensor(test_batch.x.ravel(), dtype=torch.float32).unsqueeze(1).to(device)\n",
    "    test_y = torch.tensor(test_batch.y.ravel(), dtype=torch.float32).unsqueeze(1).to(device)\n",
    "\n",
    "    mse_loss = torch.nn.MSELoss()\n",
    "    \n",
    "    # No need to accumulate gradients when evaluating the validation loss.\n",
    "    # Also, we put the model into \"evaluation mode\" for the purpose of computing the prediction.\n",
    "    # This is to prevent layers like BatchNorm / Dropout mutating their internal state.\n",
    "    with torch.no_grad(), model_eval(module):\n",
    "        test_y_pred = module(test_x)\n",
    "        test_mse = mse_loss(test_y_pred, test_y).item()\n",
    "        \n",
    "    return BatchPrediction(test_y_pred.cpu().numpy().squeeze(1), test_mse)"
   ]
  },
  {
   "cell_type": "code",
   "execution_count": 310,
   "metadata": {},
   "outputs": [],
   "source": [
    "def pretrain_example(\n",
    "        *,\n",
    "        num_steps_train: int = 70000,\n",
    "        batch_size_meta: int = 25,\n",
    "        batch_size_inner: int = 10,\n",
    "        learning_rate: float = 0.001,\n",
    "        verbose: bool = False) -> list:\n",
    "    device = get_device()\n",
    "    module = SinusoidalRegressor().to(device)\n",
    "    \n",
    "    if verbose:\n",
    "        print(module)\n",
    "\n",
    "    # Construct an Optimizer. The call to model.parameters() in the constructor will contain the\n",
    "    # learnable parameters of the module.\n",
    "    optimizer = torch.optim.Adam(module.parameters(), lr=learning_rate)\n",
    "    \n",
    "    # These are the MSEs from the 'test' part of the batches drawn within the meta-training process.\n",
    "    meta_train_test_mses = []\n",
    "\n",
    "    numpy.random.seed(42)\n",
    "    \n",
    "    with Timer() as timer:\n",
    "        for i_meta in range(num_steps_train):\n",
    "            \n",
    "            # Generate a batch with which to train.\n",
    "            batch = generate_sinusoid_batch(batch_size_meta, batch_size_inner * 2)\n",
    "            \n",
    "            train_batch = batch[:batch_size_inner]\n",
    "            test_batch = batch[batch_size_inner:]\n",
    "            \n",
    "            _train_step(module, train_batch, optimizer)\n",
    "\n",
    "            if i_meta % 500 == 0:\n",
    "                prediction = _get_test_prediction(module, test_batch)\n",
    "                meta_train_test_mses.append(prediction.mse_loss)\n",
    "                if verbose:\n",
    "                    print(f'Epoch {i_meta + 1}/{num_steps_train}:   {prediction.mse_loss}')\n",
    "\n",
    "    print(timer)\n",
    "    \n",
    "    return meta_train_test_mses, module"
   ]
  },
  {
   "cell_type": "code",
   "execution_count": null,
   "metadata": {},
   "outputs": [],
   "source": [
    "meta_train_test_mses, module = pretrain_example()"
   ]
  },
  {
   "cell_type": "code",
   "execution_count": null,
   "metadata": {},
   "outputs": [],
   "source": [
    "pyplot.plot(meta_train_test_mses)"
   ]
  },
  {
   "cell_type": "code",
   "execution_count": null,
   "metadata": {},
   "outputs": [],
   "source": [
    "def meta_test(\n",
    "        module,\n",
    "        *,\n",
    "        batch_size_inner: int = 10,\n",
    "        learning_rate: float = 0.001):\n",
    "    \"\"\"Perform a single test on the trained module\"\"\"\n",
    "    # FIXME We need to make an independent copy of the module's parameters before we mutate them in training.\n",
    "    batch = generate_sinusoid_batch(1, 2 * batch_size_inner)\n",
    "    train_batch = batch[:batch_size_inner]\n",
    "    test_batch = batch[batch_size_inner:]\n",
    "    \n",
    "    prediction = _get_test_prediction(module, test_batch)\n",
    "    plot_task(train_batch, 0)\n",
    "    pyplot.plot(test_batch.x[0], prediction.y, '<')\n",
    "    pyplot.show()\n",
    "    \n",
    "    optimizer = torch.optim.Adam(module.parameters(), lr=learning_rate)\n",
    "    \n",
    "    _train_step(module, train_batch, optimizer)\n",
    "    #TODO Evaluate over a much finer grid to make a better plot\n",
    "    prediction = _get_test_prediction(module, test_batch)\n",
    "    plot_task(train_batch, 0)\n",
    "    pyplot.plot(test_batch.x[0], prediction.y, '<')\n",
    "    print(prediction.y)\n",
    "    pyplot.show()\n",
    "    \n",
    "    for _ in range(29):\n",
    "        _train_step(module, train_batch, optimizer)\n",
    "    prediction = _get_test_prediction(module, test_batch)\n",
    "    plot_task(train_batch, 0)\n",
    "    pyplot.plot(test_batch.x[0], prediction.y, '<')\n",
    "    print(prediction.y)\n",
    "    pyplot.show()\n",
    "    \n",
    "\n",
    "    "
   ]
  },
  {
   "cell_type": "code",
   "execution_count": null,
   "metadata": {},
   "outputs": [],
   "source": [
    "numpy.random.seed(33)\n",
    "meta_test(module)"
   ]
  },
  {
   "cell_type": "code",
   "execution_count": null,
   "metadata": {},
   "outputs": [],
   "source": [
    "module(torch.from_numpy(numpy.expand_dims(numpy.array([-3, -2, -1, 0, 4], dtype=numpy.float32), 1)).to(get_device()))"
   ]
  },
  {
   "cell_type": "code",
   "execution_count": null,
   "metadata": {},
   "outputs": [],
   "source": [
    "list(module.parameters())"
   ]
  },
  {
   "cell_type": "code",
   "execution_count": null,
   "metadata": {},
   "outputs": [],
   "source": []
  }
 ],
 "metadata": {
  "kernelspec": {
   "display_name": "Python 3",
   "language": "python",
   "name": "python3"
  },
  "language_info": {
   "codemirror_mode": {
    "name": "ipython",
    "version": 3
   },
   "file_extension": ".py",
   "mimetype": "text/x-python",
   "name": "python",
   "nbconvert_exporter": "python",
   "pygments_lexer": "ipython3",
   "version": "3.7.7"
  }
 },
 "nbformat": 4,
 "nbformat_minor": 4
}
